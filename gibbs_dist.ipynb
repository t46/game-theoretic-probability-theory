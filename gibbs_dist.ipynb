{
 "cells": [
  {
   "cell_type": "markdown",
   "metadata": {},
   "source": [
    "# Gibbs Distribution from Second Law\n",
    "https://arxiv.org/pdf/2008.13132.pdf"
   ]
  },
  {
   "cell_type": "code",
   "execution_count": 1,
   "metadata": {},
   "outputs": [
    {
     "name": "stderr",
     "output_type": "stream",
     "text": [
      "/Users/shiro/miniforge3/lib/python3.9/site-packages/jax/_src/lib/__init__.py:34: UserWarning: JAX on Mac ARM machines is experimental and minimally tested. Please see https://github.com/google/jax/issues/5501 in the event of problems.\n",
      "  warnings.warn(\"JAX on Mac ARM machines is experimental and minimally tested. \"\n"
     ]
    }
   ],
   "source": [
    "# import numpy as np\n",
    "import matplotlib.pyplot as plt\n",
    "import seaborn as sns\n",
    "import copy\n",
    "import jax.numpy as np\n",
    "from jax import grad\n",
    "import jax\n",
    "from tqdm import tqdm"
   ]
  },
  {
   "cell_type": "code",
   "execution_count": 3,
   "metadata": {},
   "outputs": [],
   "source": [
    "sns.set_style(\"ticks\")\n",
    "sns.set_context(\"paper\", 2, {\"lines.linewidth\": 2})"
   ]
  },
  {
   "cell_type": "code",
   "execution_count": 4,
   "metadata": {},
   "outputs": [],
   "source": [
    "def calc_ising_model_exp_family_component(state, ex_field, coupling_const, inv_temp):\n",
    "    # exp_family = np.dot(parameter, conj_var) + remaining\n",
    "    parameter = np.array([inv_temp * ex_field, inv_temp * coupling_const])\n",
    "    conj_var = np.array([np.sum(state), np.sum(np.array([state[i] * state[i + 1] for i in range(len(state) - 1)]))])\n",
    "    remaining = 0\n",
    "    return parameter, conj_var, remaining\n",
    "\n",
    "def calc_hamiltonian(parameter, conj_var, remaining, inv_temp):\n",
    "    hamiltonian = (- np.dot(parameter, conj_var) - remaining) / inv_temp\n",
    "    return hamiltonian\n",
    "\n",
    "def calc_massieu_func(parameter, conj_var, remaining):\n",
    "    massieu_func = np.log(np.sum(np.exp(parameter * conj_var + remaining)))\n",
    "    return massieu_func\n",
    "\n",
    "def calc_free_energy(massieu_func, inv_temp):\n",
    "    free_energy = - massieu_func / inv_temp\n",
    "    return free_energy\n",
    "\n",
    "def extract_work(work, init_hamiltonian, hamiltonian, init_free_energy, free_energy):\n",
    "    work += init_hamiltonian - hamiltonian + free_energy - init_free_energy\n",
    "    return work\n",
    "\n",
    "def calc_work(state, ex_field, coupling_const, inv_temp, init_hamiltonian, hamiltonian):\n",
    "    parameter, conj_var, remaining = calc_ising_model_exp_family_component(state, ex_field, coupling_const, inv_temp)\n",
    "    hamiltonian = calc_hamiltonian(parameter, conj_var, remaining, inv_temp)\n",
    "    massieu_func =  calc_massieu_func(parameter, conj_var, remaining)\n",
    "    free_energy = calc_free_energy(massieu_func, inv_temp)\n",
    "    work = init_hamiltonian - hamiltonian + free_energy - init_free_energy\n",
    "    return work\n",
    "\n",
    "def calc_exp_family_density(parameter, conj_var, remaining, massieu_func):\n",
    "    density = np.exp(np.dot(parameter, conj_var) + remaining - massieu_func)\n",
    "    return density\n",
    "\n",
    "def calc_negative_log_likelihood(parameter, conj_var, remaining, massieu_func):\n",
    "    nll = - (np.dot(parameter, conj_var) + remaining - massieu_func)\n",
    "    return nll\n",
    "\n",
    "def kl_div(parameter_1, parameter_2, conj_var_expectation_1, massieu_func_1, massieu_func_2):\n",
    "    kl_div = (parameter_1 - parameter_2) * conj_var_expectation_1 - massieu_func_1 + massieu_func_2\n",
    "    return kl_div\n",
    "\n",
    "def update_param(loss_fn, parameter, argnums, learning_rate=0.1, num_iter=100):\n",
    "    for _ in range(num_iter):\n",
    "        grads = - grad(loss_fn, argnums=argnums)(item for item in parameter)\n",
    "        parameter -= learning_rate * grads\n",
    "    return parameter"
   ]
  },
  {
   "cell_type": "code",
   "execution_count": 12,
   "metadata": {},
   "outputs": [
    {
     "name": "stderr",
     "output_type": "stream",
     "text": [
      "100%|██████████| 1000/1000 [11:03<00:00,  1.51it/s]\n"
     ]
    }
   ],
   "source": [
    "inv_temp = 2.0\n",
    "ex_field = 0.0\n",
    "coupling_const = 0.5\n",
    "state_dim = 2\n",
    "seed = 0\n",
    "key = jax.random.PRNGKey(seed)\n",
    "state = jax.random.choice(key, a=np.array([-1.0, 1.0]), shape=[2])\n",
    "num_cycle = 100\n",
    "work = 0.0\n",
    "iter_for_param_update = 100\n",
    "learning_rate = 0.1\n",
    "\n",
    "work_list = []\n",
    "for step in tqdm(range(num_cycle)):\n",
    "    parameter, conj_var, remaining = calc_ising_model_exp_family_component(state, ex_field, coupling_const, inv_temp)\n",
    "    hamiltonian = calc_hamiltonian(parameter, conj_var, remaining, inv_temp)\n",
    "    massieu_func = calc_massieu_func(parameter, conj_var, remaining)\n",
    "    free_energy = calc_free_energy(massieu_func, inv_temp)\n",
    "    if step == 0:\n",
    "        init_hamiltonian = copy.deepcopy(hamiltonian)\n",
    "        init_free_energy = copy.deepcopy(free_energy)\n",
    "    work = extract_work(work, init_hamiltonian, hamiltonian, init_free_energy, free_energy)\n",
    "    work_list.append(work)\n",
    "    # Naximum liklihood maximization strategy\n",
    "    for _ in range(iter_for_param_update):\n",
    "        grads = - grad(calc_negative_log_likelihood, argnums=(0))(parameter, conj_var, remaining, massieu_func)\n",
    "        parameter -= learning_rate * grads\n",
    "\n",
    "    # Set status to minimize work\n",
    "    for _ in range(iter_for_param_update):\n",
    "        grads = - grad(calc_work, argnums=(0))(state, ex_field, coupling_const, inv_temp, init_hamiltonian, hamiltonian)\n",
    "        state -= learning_rate * grads\n",
    "\n",
    "    # parameter = update_param(calc_exp_family_density, parameter, argnums=(0, 1))\n",
    "    # state = update_param(calc_work, (state, ex_field, coupling_const, inv_temp, init_hamiltonian, hamiltonian), argnums=(0))"
   ]
  },
  {
   "cell_type": "code",
   "execution_count": 14,
   "metadata": {},
   "outputs": [
    {
     "data": {
      "image/png": "[encoded data removed]",
      "text/plain": [
       "<Figure size 432x288 with 1 Axes>"
      ]
     },
     "metadata": {},
     "output_type": "display_data"
    }
   ],
   "source": [
    "plt.plot(work_list, color=(0.188, 0.333, 0.454))\n",
    "plt.title('Extracted Work')\n",
    "plt.ylabel(r'$W_n$')\n",
    "plt.xlabel('Number of Cycle')\n",
    "plt.show()"
   ]
  }
 ],
 "metadata": {
  "interpreter": {
   "hash": "51277dc59fd066300e419e915d8a2a9e32bab27c1c3bc1bdcf4bc7cf23b2a3da"
  },
  "kernelspec": {
   "display_name": "Python 3.9.7 ('base')",
   "language": "python",
   "name": "python3"
  },
  "language_info": {
   "codemirror_mode": {
    "name": "ipython",
    "version": 3
   },
   "file_extension": ".py",
   "mimetype": "text/x-python",
   "name": "python",
   "nbconvert_exporter": "python",
   "pygments_lexer": "ipython3",
   "version": "3.9.7"
  },
  "orig_nbformat": 4
 },
 "nbformat": 4,
 "nbformat_minor": 2
}
